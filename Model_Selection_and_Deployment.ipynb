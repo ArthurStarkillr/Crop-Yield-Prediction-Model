{
 "cells": [
  {
   "cell_type": "code",
   "execution_count": 1,
   "id": "fa40e5e3",
   "metadata": {},
   "outputs": [],
   "source": [
    "import numpy as np \n",
    "import pandas as pd \n",
    "df = pd.read_csv('yield_df.csv')\n",
    "df = df.drop(['Unnamed: 0'], axis=1)\n"
   ]
  },
  {
   "cell_type": "code",
   "execution_count": 2,
   "id": "f2a013b8",
   "metadata": {},
   "outputs": [],
   "source": [
    "import sklearn\n",
    "import seaborn as sns\n",
    "import matplotlib.pyplot as plt"
   ]
  },
  {
   "cell_type": "markdown",
   "id": "e6595904",
   "metadata": {},
   "source": [
    "# Data Preprocessing"
   ]
  },
  {
   "cell_type": "code",
   "execution_count": 3,
   "id": "af146e44",
   "metadata": {},
   "outputs": [
    {
     "data": {
      "text/plain": [
       "array([[1.0, 0.0, 0.0, ..., 1996, 12004.33, 19.64],\n",
       "       [0.0, 1.0, 0.0, ..., 1996, 12004.33, 19.64],\n",
       "       [0.0, 0.0, 1.0, ..., 1996, 12004.33, 19.64],\n",
       "       ...,\n",
       "       [0.0, 0.0, 0.0, ..., 1083, 45620.0, 27.44],\n",
       "       [0.0, 0.0, 0.0, ..., 1083, 45620.0, 27.44],\n",
       "       [0.0, 0.0, 0.0, ..., 1083, 45620.0, 26.99]], dtype=object)"
      ]
     },
     "execution_count": 3,
     "metadata": {},
     "output_type": "execute_result"
    }
   ],
   "source": [
    "X=df.loc[:, df.columns != 'hg/ha_yield']\n",
    "X = X.drop(['Year'], axis=1)\n",
    "Y=df['hg/ha_yield']\n",
    "from sklearn.compose import ColumnTransformer\n",
    "from sklearn.preprocessing import OneHotEncoder\n",
    "ct1=ColumnTransformer(transformers=[('encoder',OneHotEncoder(),[1])],remainder='passthrough')\n",
    "X=np.array(ct1.fit_transform(X))\n",
    "X"
   ]
  },
  {
   "cell_type": "code",
   "execution_count": 4,
   "id": "ab85d9ca",
   "metadata": {},
   "outputs": [
    {
     "data": {
      "text/plain": [
       "array([[1.0, 0.0, 0.0, ..., 1996, 12004.33, 19.64],\n",
       "       [0.0, 1.0, 0.0, ..., 1996, 12004.33, 19.64],\n",
       "       [0.0, 0.0, 1.0, ..., 1996, 12004.33, 19.64],\n",
       "       ...,\n",
       "       [0.0, 0.0, 0.0, ..., 1083, 45620.0, 27.44],\n",
       "       [0.0, 0.0, 0.0, ..., 1083, 45620.0, 27.44],\n",
       "       [0.0, 0.0, 0.0, ..., 1083, 45620.0, 26.99]], dtype=object)"
      ]
     },
     "execution_count": 4,
     "metadata": {},
     "output_type": "execute_result"
    }
   ],
   "source": [
    "from sklearn.preprocessing import LabelEncoder\n",
    "\n",
    "le=LabelEncoder()\n",
    "X[:,10]=le.fit_transform(X[:,10])\n",
    "X"
   ]
  },
  {
   "cell_type": "code",
   "execution_count": 5,
   "id": "6e63fc6e",
   "metadata": {},
   "outputs": [],
   "source": [
    "yield_df_onehot=pd.DataFrame(X)\n",
    "yield_df_onehot[\"hg/ha_yield\"]=Y"
   ]
  },
  {
   "cell_type": "code",
   "execution_count": 6,
   "id": "c178069c",
   "metadata": {},
   "outputs": [
    {
     "data": {
      "text/html": [
       "<div>\n",
       "<style scoped>\n",
       "    .dataframe tbody tr th:only-of-type {\n",
       "        vertical-align: middle;\n",
       "    }\n",
       "\n",
       "    .dataframe tbody tr th {\n",
       "        vertical-align: top;\n",
       "    }\n",
       "\n",
       "    .dataframe thead th {\n",
       "        text-align: right;\n",
       "    }\n",
       "</style>\n",
       "<table border=\"1\" class=\"dataframe\">\n",
       "  <thead>\n",
       "    <tr style=\"text-align: right;\">\n",
       "      <th></th>\n",
       "      <th>0</th>\n",
       "      <th>1</th>\n",
       "      <th>2</th>\n",
       "      <th>3</th>\n",
       "      <th>4</th>\n",
       "      <th>5</th>\n",
       "      <th>6</th>\n",
       "      <th>7</th>\n",
       "      <th>8</th>\n",
       "      <th>9</th>\n",
       "      <th>10</th>\n",
       "      <th>11</th>\n",
       "      <th>12</th>\n",
       "      <th>13</th>\n",
       "      <th>hg/ha_yield</th>\n",
       "    </tr>\n",
       "  </thead>\n",
       "  <tbody>\n",
       "    <tr>\n",
       "      <th>0</th>\n",
       "      <td>1.0</td>\n",
       "      <td>0.0</td>\n",
       "      <td>0.0</td>\n",
       "      <td>0.0</td>\n",
       "      <td>0.0</td>\n",
       "      <td>0.0</td>\n",
       "      <td>0.0</td>\n",
       "      <td>0.0</td>\n",
       "      <td>0.0</td>\n",
       "      <td>0.0</td>\n",
       "      <td>0</td>\n",
       "      <td>1996</td>\n",
       "      <td>12004.33</td>\n",
       "      <td>19.64</td>\n",
       "      <td>31400</td>\n",
       "    </tr>\n",
       "    <tr>\n",
       "      <th>1</th>\n",
       "      <td>0.0</td>\n",
       "      <td>1.0</td>\n",
       "      <td>0.0</td>\n",
       "      <td>0.0</td>\n",
       "      <td>0.0</td>\n",
       "      <td>0.0</td>\n",
       "      <td>0.0</td>\n",
       "      <td>0.0</td>\n",
       "      <td>0.0</td>\n",
       "      <td>0.0</td>\n",
       "      <td>0</td>\n",
       "      <td>1996</td>\n",
       "      <td>12004.33</td>\n",
       "      <td>19.64</td>\n",
       "      <td>20052</td>\n",
       "    </tr>\n",
       "    <tr>\n",
       "      <th>2</th>\n",
       "      <td>0.0</td>\n",
       "      <td>0.0</td>\n",
       "      <td>1.0</td>\n",
       "      <td>0.0</td>\n",
       "      <td>0.0</td>\n",
       "      <td>0.0</td>\n",
       "      <td>0.0</td>\n",
       "      <td>0.0</td>\n",
       "      <td>0.0</td>\n",
       "      <td>0.0</td>\n",
       "      <td>0</td>\n",
       "      <td>1996</td>\n",
       "      <td>12004.33</td>\n",
       "      <td>19.64</td>\n",
       "      <td>394286</td>\n",
       "    </tr>\n",
       "    <tr>\n",
       "      <th>3</th>\n",
       "      <td>0.0</td>\n",
       "      <td>0.0</td>\n",
       "      <td>0.0</td>\n",
       "      <td>1.0</td>\n",
       "      <td>0.0</td>\n",
       "      <td>0.0</td>\n",
       "      <td>0.0</td>\n",
       "      <td>0.0</td>\n",
       "      <td>0.0</td>\n",
       "      <td>0.0</td>\n",
       "      <td>0</td>\n",
       "      <td>1996</td>\n",
       "      <td>12004.33</td>\n",
       "      <td>19.64</td>\n",
       "      <td>210685</td>\n",
       "    </tr>\n",
       "    <tr>\n",
       "      <th>4</th>\n",
       "      <td>0.0</td>\n",
       "      <td>0.0</td>\n",
       "      <td>0.0</td>\n",
       "      <td>0.0</td>\n",
       "      <td>1.0</td>\n",
       "      <td>0.0</td>\n",
       "      <td>0.0</td>\n",
       "      <td>0.0</td>\n",
       "      <td>0.0</td>\n",
       "      <td>0.0</td>\n",
       "      <td>0</td>\n",
       "      <td>1996</td>\n",
       "      <td>12004.33</td>\n",
       "      <td>19.64</td>\n",
       "      <td>31111</td>\n",
       "    </tr>\n",
       "  </tbody>\n",
       "</table>\n",
       "</div>"
      ],
      "text/plain": [
       "     0    1    2    3    4    5    6    7    8    9 10    11        12     13  \\\n",
       "0  1.0  0.0  0.0  0.0  0.0  0.0  0.0  0.0  0.0  0.0  0  1996  12004.33  19.64   \n",
       "1  0.0  1.0  0.0  0.0  0.0  0.0  0.0  0.0  0.0  0.0  0  1996  12004.33  19.64   \n",
       "2  0.0  0.0  1.0  0.0  0.0  0.0  0.0  0.0  0.0  0.0  0  1996  12004.33  19.64   \n",
       "3  0.0  0.0  0.0  1.0  0.0  0.0  0.0  0.0  0.0  0.0  0  1996  12004.33  19.64   \n",
       "4  0.0  0.0  0.0  0.0  1.0  0.0  0.0  0.0  0.0  0.0  0  1996  12004.33  19.64   \n",
       "\n",
       "   hg/ha_yield  \n",
       "0        31400  \n",
       "1        20052  \n",
       "2       394286  \n",
       "3       210685  \n",
       "4        31111  "
      ]
     },
     "execution_count": 6,
     "metadata": {},
     "output_type": "execute_result"
    }
   ],
   "source": [
    "yield_df_onehot.head()"
   ]
  },
  {
   "cell_type": "code",
   "execution_count": 7,
   "id": "f71153f4",
   "metadata": {},
   "outputs": [],
   "source": [
    "from sklearn.preprocessing import MinMaxScaler\n",
    "scaler=MinMaxScaler()\n",
    "X=scaler.fit_transform(X) "
   ]
  },
  {
   "cell_type": "code",
   "execution_count": 8,
   "id": "773f5b06",
   "metadata": {},
   "outputs": [
    {
     "data": {
      "text/plain": [
       "array([[1.        , 0.        , 0.        , ..., 0.60990906, 0.03263773,\n",
       "        0.64856115],\n",
       "       [0.        , 1.        , 0.        , ..., 0.60990906, 0.03263773,\n",
       "        0.64856115],\n",
       "       [0.        , 0.        , 1.        , ..., 0.60990906, 0.03263773,\n",
       "        0.64856115],\n",
       "       ...,\n",
       "       [0.        , 0.        , 0.        , ..., 0.32361242, 0.12404003,\n",
       "        0.92913669],\n",
       "       [0.        , 0.        , 0.        , ..., 0.32361242, 0.12404003,\n",
       "        0.92913669],\n",
       "       [0.        , 0.        , 0.        , ..., 0.32361242, 0.12404003,\n",
       "        0.91294964]])"
      ]
     },
     "execution_count": 8,
     "metadata": {},
     "output_type": "execute_result"
    }
   ],
   "source": [
    "X"
   ]
  },
  {
   "cell_type": "markdown",
   "id": "2b78aa6d",
   "metadata": {},
   "source": [
    "# Model Development"
   ]
  },
  {
   "cell_type": "markdown",
   "id": "0d51225e",
   "metadata": {},
   "source": [
    "### Data Splitting and Model Fitting"
   ]
  },
  {
   "cell_type": "code",
   "execution_count": 9,
   "id": "6641ca1e",
   "metadata": {},
   "outputs": [],
   "source": [
    "from sklearn.model_selection import train_test_split\n",
    "x_train, x_test, y_train, y_test = train_test_split(X,Y, test_size=0.2, random_state=42)"
   ]
  },
  {
   "cell_type": "code",
   "execution_count": 10,
   "id": "43e92301",
   "metadata": {},
   "outputs": [],
   "source": [
    "from sklearn.model_selection import train_test_split\n",
    "x_train, x_test, y_train, y_test = train_test_split(X, Y, test_size=0.2, random_state=42)"
   ]
  },
  {
   "cell_type": "code",
   "execution_count": 11,
   "id": "9f831067",
   "metadata": {},
   "outputs": [],
   "source": [
    "test_df=pd.DataFrame(x_test,columns=yield_df_onehot.loc[:, yield_df_onehot.columns != 'hg/ha_yield'].columns) "
   ]
  },
  {
   "cell_type": "code",
   "execution_count": 12,
   "id": "fd786f9c",
   "metadata": {},
   "outputs": [
    {
     "data": {
      "text/html": [
       "<div>\n",
       "<style scoped>\n",
       "    .dataframe tbody tr th:only-of-type {\n",
       "        vertical-align: middle;\n",
       "    }\n",
       "\n",
       "    .dataframe tbody tr th {\n",
       "        vertical-align: top;\n",
       "    }\n",
       "\n",
       "    .dataframe thead th {\n",
       "        text-align: right;\n",
       "    }\n",
       "</style>\n",
       "<table border=\"1\" class=\"dataframe\">\n",
       "  <thead>\n",
       "    <tr style=\"text-align: right;\">\n",
       "      <th></th>\n",
       "      <th>0</th>\n",
       "      <th>1</th>\n",
       "      <th>2</th>\n",
       "      <th>3</th>\n",
       "      <th>4</th>\n",
       "      <th>5</th>\n",
       "      <th>6</th>\n",
       "      <th>7</th>\n",
       "      <th>8</th>\n",
       "      <th>9</th>\n",
       "      <th>10</th>\n",
       "      <th>11</th>\n",
       "      <th>12</th>\n",
       "      <th>13</th>\n",
       "    </tr>\n",
       "  </thead>\n",
       "  <tbody>\n",
       "    <tr>\n",
       "      <th>0</th>\n",
       "      <td>0.0</td>\n",
       "      <td>0.0</td>\n",
       "      <td>0.0</td>\n",
       "      <td>0.0</td>\n",
       "      <td>0.0</td>\n",
       "      <td>0.0</td>\n",
       "      <td>1.0</td>\n",
       "      <td>0.0</td>\n",
       "      <td>0.0</td>\n",
       "      <td>0.0</td>\n",
       "      <td>0.764706</td>\n",
       "      <td>0.138915</td>\n",
       "      <td>0.021517</td>\n",
       "      <td>0.616547</td>\n",
       "    </tr>\n",
       "    <tr>\n",
       "      <th>1</th>\n",
       "      <td>0.0</td>\n",
       "      <td>0.0</td>\n",
       "      <td>0.0</td>\n",
       "      <td>0.0</td>\n",
       "      <td>0.0</td>\n",
       "      <td>0.0</td>\n",
       "      <td>0.0</td>\n",
       "      <td>1.0</td>\n",
       "      <td>0.0</td>\n",
       "      <td>0.0</td>\n",
       "      <td>0.941176</td>\n",
       "      <td>0.536218</td>\n",
       "      <td>0.938136</td>\n",
       "      <td>0.589928</td>\n",
       "    </tr>\n",
       "    <tr>\n",
       "      <th>2</th>\n",
       "      <td>0.0</td>\n",
       "      <td>0.0</td>\n",
       "      <td>0.0</td>\n",
       "      <td>0.0</td>\n",
       "      <td>0.0</td>\n",
       "      <td>1.0</td>\n",
       "      <td>0.0</td>\n",
       "      <td>0.0</td>\n",
       "      <td>0.0</td>\n",
       "      <td>0.0</td>\n",
       "      <td>0.147059</td>\n",
       "      <td>0.426152</td>\n",
       "      <td>0.017173</td>\n",
       "      <td>0.908633</td>\n",
       "    </tr>\n",
       "    <tr>\n",
       "      <th>3</th>\n",
       "      <td>0.0</td>\n",
       "      <td>0.0</td>\n",
       "      <td>0.0</td>\n",
       "      <td>0.0</td>\n",
       "      <td>0.0</td>\n",
       "      <td>1.0</td>\n",
       "      <td>0.0</td>\n",
       "      <td>0.0</td>\n",
       "      <td>0.0</td>\n",
       "      <td>0.0</td>\n",
       "      <td>0.058824</td>\n",
       "      <td>0.820006</td>\n",
       "      <td>0.041681</td>\n",
       "      <td>0.898561</td>\n",
       "    </tr>\n",
       "    <tr>\n",
       "      <th>4</th>\n",
       "      <td>0.0</td>\n",
       "      <td>0.0</td>\n",
       "      <td>0.0</td>\n",
       "      <td>0.0</td>\n",
       "      <td>0.0</td>\n",
       "      <td>0.0</td>\n",
       "      <td>1.0</td>\n",
       "      <td>0.0</td>\n",
       "      <td>0.0</td>\n",
       "      <td>0.0</td>\n",
       "      <td>1.000000</td>\n",
       "      <td>0.323612</td>\n",
       "      <td>0.125603</td>\n",
       "      <td>0.911871</td>\n",
       "    </tr>\n",
       "  </tbody>\n",
       "</table>\n",
       "</div>"
      ],
      "text/plain": [
       "     0    1    2    3    4    5    6    7    8    9        10        11  \\\n",
       "0  0.0  0.0  0.0  0.0  0.0  0.0  1.0  0.0  0.0  0.0  0.764706  0.138915   \n",
       "1  0.0  0.0  0.0  0.0  0.0  0.0  0.0  1.0  0.0  0.0  0.941176  0.536218   \n",
       "2  0.0  0.0  0.0  0.0  0.0  1.0  0.0  0.0  0.0  0.0  0.147059  0.426152   \n",
       "3  0.0  0.0  0.0  0.0  0.0  1.0  0.0  0.0  0.0  0.0  0.058824  0.820006   \n",
       "4  0.0  0.0  0.0  0.0  0.0  0.0  1.0  0.0  0.0  0.0  1.000000  0.323612   \n",
       "\n",
       "         12        13  \n",
       "0  0.021517  0.616547  \n",
       "1  0.938136  0.589928  \n",
       "2  0.017173  0.908633  \n",
       "3  0.041681  0.898561  \n",
       "4  0.125603  0.911871  "
      ]
     },
     "execution_count": 12,
     "metadata": {},
     "output_type": "execute_result"
    }
   ],
   "source": [
    "test_df.head()"
   ]
  },
  {
   "cell_type": "markdown",
   "id": "2d9529b7",
   "metadata": {},
   "source": [
    "### Model Comparision and Selection"
   ]
  },
  {
   "cell_type": "code",
   "execution_count": 13,
   "id": "fa207b2f",
   "metadata": {},
   "outputs": [
    {
     "name": "stdout",
     "output_type": "stream",
     "text": [
      "['LinearRegression', 0.6784745906613432]\n",
      "['RandomForestRegressor', 0.9839458879759438]\n",
      "['DecisionTreeRegressor', 0.9794086387128991]\n",
      "['GradientBoostingRegressor', 0.9036107955720422]\n",
      "['AdaBoostRegressor', 0.7092423981218265]\n",
      "['ExtraTreesRegressor', 0.9847070216771822]\n",
      "['BayesianRidge', 0.6784848390170964]\n"
     ]
    }
   ],
   "source": [
    "from sklearn.linear_model import LinearRegression\n",
    "from sklearn.ensemble import RandomForestRegressor\n",
    "#from sklearn.svm import SVR\n",
    "from sklearn.tree import DecisionTreeRegressor\n",
    "from sklearn.ensemble import GradientBoostingRegressor\n",
    "from sklearn.ensemble import AdaBoostRegressor\n",
    "from sklearn.ensemble import ExtraTreesRegressor\n",
    "\n",
    "#from sklearn.linear_model import ElasticNet\n",
    "#from sklearn.linear_model import SGDRegressor\n",
    "from sklearn.linear_model import BayesianRidge\n",
    "\n",
    "from sklearn.metrics import confusion_matrix, f1_score\n",
    "from sklearn.metrics import classification_report\n",
    "from sklearn.metrics import r2_score\n",
    "def compare_models(model):\n",
    "    model_name = model.__class__.__name__\n",
    "    fit=model.fit(x_train,y_train)\n",
    "    y_pred=fit.predict(x_test)\n",
    "    r2=r2_score(y_test,y_pred)\n",
    "    return([model_name,r2])\n",
    "    return\n",
    "models = [LinearRegression(), RandomForestRegressor(),DecisionTreeRegressor(),GradientBoostingRegressor(), AdaBoostRegressor()\\\n",
    "    ,ExtraTreesRegressor(),BayesianRidge()]\n",
    "model_train=list(map(compare_models,models)) \n",
    "print(*model_train, sep = \"\\n\")\n"
   ]
  },
  {
   "cell_type": "code",
   "execution_count": 14,
   "id": "89fa7a22",
   "metadata": {},
   "outputs": [
    {
     "name": "stdout",
     "output_type": "stream",
     "text": [
      "LinearRegression()\n",
      "Accuracy on training set:  0.677309344457742\n",
      "Accuracy on testing set:  0.6784745906613432\n",
      "RandomForestRegressor()\n",
      "Accuracy on training set:  0.9974768194101045\n",
      "Accuracy on testing set:  0.9840424010561224\n",
      "DecisionTreeRegressor()\n",
      "Accuracy on training set:  0.9996459042938979\n",
      "Accuracy on testing set:  0.9797617520288467\n",
      "GradientBoostingRegressor()\n",
      "Accuracy on training set:  0.9113005517554312\n",
      "Accuracy on testing set:  0.9036107955720422\n",
      "AdaBoostRegressor()\n",
      "Accuracy on training set:  0.7052421855371847\n",
      "Accuracy on testing set:  0.704031108217988\n",
      "ExtraTreesRegressor()\n",
      "Accuracy on training set:  0.9996459042486353\n",
      "Accuracy on testing set:  0.9847358318870867\n",
      "BayesianRidge()\n",
      "Accuracy on training set:  0.6773092411334823\n",
      "Accuracy on testing set:  0.6784848390170964\n"
     ]
    }
   ],
   "source": [
    "from sklearn.linear_model import LinearRegression\n",
    "from sklearn.ensemble import RandomForestRegressor\n",
    "#from sklearn.svm import SVR\n",
    "from sklearn.tree import DecisionTreeRegressor\n",
    "from sklearn.ensemble import GradientBoostingRegressor\n",
    "from sklearn.ensemble import AdaBoostRegressor\n",
    "from sklearn.ensemble import ExtraTreesRegressor\n",
    "\n",
    "#from sklearn.linear_model import ElasticNet\n",
    "#from sklearn.linear_model import SGDRegressor\n",
    "from sklearn.linear_model import BayesianRidge\n",
    "\n",
    "from sklearn.metrics import confusion_matrix, f1_score\n",
    "from sklearn.metrics import classification_report\n",
    "\n",
    "models = [LinearRegression(), RandomForestRegressor(),DecisionTreeRegressor(),GradientBoostingRegressor(), AdaBoostRegressor()\\\n",
    "    ,ExtraTreesRegressor(),BayesianRidge()]\n",
    "for model in models: \n",
    "    model.fit(x_train,y_train)\n",
    "    print(model)\n",
    "    print(\"Accuracy on training set: \", model.score(x_train,y_train))\n",
    "    print(\"Accuracy on testing set: \", model.score(x_test,y_test))"
   ]
  },
  {
   "cell_type": "code",
   "execution_count": 15,
   "id": "7899f6da",
   "metadata": {},
   "outputs": [
    {
     "name": "stderr",
     "output_type": "stream",
     "text": [
      "C:\\Users\\ska15\\AppData\\Local\\Programs\\Python\\Python310\\lib\\site-packages\\seaborn\\_decorators.py:36: FutureWarning: Pass the following variables as keyword args: x, y. From version 0.12, the only valid positional argument will be `data`, and passing other arguments without an explicit keyword will result in an error or misinterpretation.\n",
      "  warnings.warn(\n"
     ]
    },
    {
     "data": {
      "image/png": "[encoded data removed]",
      "text/plain": [
       "<Figure size 432x288 with 1 Axes>"
      ]
     },
     "metadata": {
      "needs_background": "light"
     },
     "output_type": "display_data"
    }
   ],
   "source": [
    "accuracy = []\n",
    "\n",
    "\n",
    "models_ = ['LR','RFR','DTR','GBR','ABR','ETR','BR',]\n",
    "for mod in models: \n",
    "    mod.fit(x_train,y_train)\n",
    "    accuracy.append(mod.score(x_test,y_test))\n",
    "sns.barplot(models_,  accuracy,x='Prediction Models', y='Accuracy Scores', palette = 'rocket')\n",
    "plt.rcParams[\"figure.figsize\"] = (10,10)\n",
    "plt.xticks(rotation = 40)\n",
    "#plt.ylabel(\"Accuracy Score\")\n",
    "#plt.xlabel(\"Prediction Models\")\n",
    "plt.show()"
   ]
  },
  {
   "cell_type": "markdown",
   "id": "82d5e426",
   "metadata": {},
   "source": [
    "# Final Model"
   ]
  },
  {
   "cell_type": "markdown",
   "id": "b6ac0411",
   "metadata": {},
   "source": [
    "#### We Chose Extra Trees Regressor after comparing accuracy and R2 Scores"
   ]
  },
  {
   "cell_type": "code",
   "execution_count": 16,
   "id": "717c9e41",
   "metadata": {},
   "outputs": [],
   "source": [
    "from sklearn.ensemble import ExtraTreesRegressor\n",
    "clf=ExtraTreesRegressor()\n",
    "model=clf.fit(x_train,y_train)\n",
    "\n",
    "test_df[\"yield_predicted\"]= model.predict(x_test)\n",
    "test_df[\"yield_actual\"]=pd.DataFrame(y_test)[\"hg/ha_yield\"].tolist()"
   ]
  },
  {
   "cell_type": "code",
   "execution_count": 17,
   "id": "fbef132c",
   "metadata": {},
   "outputs": [
    {
     "name": "stdout",
     "output_type": "stream",
     "text": [
      "Mean Squared Error:  112389115.34444849\n",
      "Mean Absolute Error:  3708.775302957634\n",
      "Accuracy Score:  0.9847752004804826\n"
     ]
    }
   ],
   "source": [
    "y_true = y_test \n",
    "y_pred = model.predict(x_test)\n",
    "from sklearn.metrics import  accuracy_score,mean_absolute_error,mean_squared_error\n",
    "from sklearn.metrics import confusion_matrix, f1_score\n",
    "from sklearn.metrics import confusion_matrix\n",
    "mse = mean_squared_error(y_true,y_pred)\n",
    "mae = mean_absolute_error(y_true,y_pred)\n",
    "acc = model.score(x_test,y_test)\n",
    "print(\"Mean Squared Error: \", mse)\n",
    "print(\"Mean Absolute Error: \", mae)\n",
    "print(\"Accuracy Score: \", acc)"
   ]
  },
  {
   "cell_type": "code",
   "execution_count": 18,
   "id": "0b7a7ec8",
   "metadata": {},
   "outputs": [
    {
     "data": {
      "image/png": "[encoded data removed]",
      "text/plain": [
       "<Figure size 720x720 with 1 Axes>"
      ]
     },
     "metadata": {
      "needs_background": "light"
     },
     "output_type": "display_data"
    }
   ],
   "source": [
    "fig, ax = plt.subplots() \n",
    "plt.rcParams[\"figure.figsize\"] = (10,10)\n",
    "ax.scatter(test_df[\"yield_actual\"], test_df[\"yield_predicted\"],edgecolors=(0, 0, 0))\n",
    "\n",
    "ax.set_xlabel('Actual')\n",
    "ax.set_ylabel('Predicted')\n",
    "ax.set_title(\"Actual vs Predicted\")\n",
    "plt.show()"
   ]
  },
  {
   "cell_type": "code",
   "execution_count": 19,
   "id": "090df322",
   "metadata": {},
   "outputs": [
    {
     "data": {
      "image/png": "[encoded data removed]",
      "text/plain": [
       "<Figure size 1202.4x595.44 with 1 Axes>"
      ]
     },
     "metadata": {
      "needs_background": "light"
     },
     "output_type": "display_data"
    }
   ],
   "source": [
    "a4_dims = (16.7, 8.27)\n",
    "\n",
    "fig, ax = plt.subplots(figsize=a4_dims)\n",
    "sns.barplot(x=\"Item\",y=\"hg/ha_yield\",palette=\"vlag\",data=df,ax=ax);"
   ]
  },
  {
   "cell_type": "markdown",
   "id": "76eb62c6",
   "metadata": {},
   "source": [
    "# Prediction"
   ]
  },
  {
   "cell_type": "code",
   "execution_count": 22,
   "id": "ef357a12",
   "metadata": {},
   "outputs": [
    {
     "name": "stdout",
     "output_type": "stream",
     "text": [
      "Enter the Indian State:Kerala\n",
      "Please choose:\n",
      "1) Cassava\n",
      "2) Maize\n",
      "3) Potatoes\n",
      "4) Rice, paddy\n",
      "5) Sorghum\n",
      "6) Soybeans\n",
      "7) Wheat\n",
      "8) Sweet potatoes\n",
      "9) Yams\n",
      "Choose a Crop to predict Yield: 2\n",
      "Enter the Year:2011\n",
      "Enter average rainfall (in mm):1200\n",
      "Enter amount of Pesticides (in tonnes):25000\n",
      "Enter the average temperature (in Celcius): 23.22\n",
      "Predicted hg/ha_yield is (Yield Per Hectare) is 18358.38\n"
     ]
    },
    {
     "name": "stderr",
     "output_type": "stream",
     "text": [
      "C:\\Users\\ska15\\AppData\\Local\\Programs\\Python\\Python310\\lib\\site-packages\\sklearn\\base.py:450: UserWarning: X does not have valid feature names, but OneHotEncoder was fitted with feature names\n",
      "  warnings.warn(\n"
     ]
    }
   ],
   "source": [
    "Area=input(\"Enter the Indian State:\")\n",
    "def let_user_pick(options):\n",
    "    print(\"Please choose:\")\n",
    "    for idx, element in enumerate(options):\n",
    "        print(\"{}) {}\".format(idx + 1, element))\n",
    "    i = input(\"Choose a Crop to predict Yield: \")\n",
    "    try:\n",
    "        if 0 < int(i) <= len(options):\n",
    "            return int(i) - 1\n",
    "    except:\n",
    "        pass\n",
    "    return None\n",
    "options = [\"Cassava\", \"Maize\", \"Potatoes\",\"Rice, paddy\",\"Sorghum\",\"Soybeans\",\"Wheat\",\"Sweet potatoes\",\"Yams\"]\n",
    "res = let_user_pick(options)\n",
    "Item = options[res]\n",
    "#Item=input(\"Enter the Crop Name:\")\n",
    "Year=input(\"Enter the Year:\")\n",
    "average_rain_fall_mm_per_year=input(\"Enter average rainfall (in mm):\")\n",
    "pesticides_tonnes=input(\"Enter amount of Pesticides (in tonnes):\")\n",
    "avg_temp=input(\"Enter the average temperature (in Celcius): \")\n",
    "\n",
    "inputs=np.array([[Area,Item,average_rain_fall_mm_per_year,pesticides_tonnes,avg_temp]])\n",
    "inputs=np.array(ct1.transform(inputs))\n",
    "inputs[:,10]=le.transform(inputs[:,10])\n",
    "inputs=scaler.transform(inputs)\n",
    "\n",
    "prediction=model.predict(inputs)\n",
    "print(\"Predicted hg/ha_yield is (Yield Per Hectare) is\",prediction[0])"
   ]
  },
  {
   "cell_type": "code",
   "execution_count": null,
   "id": "57f9b9e0",
   "metadata": {},
   "outputs": [],
   "source": []
  },
  {
   "cell_type": "code",
   "execution_count": null,
   "id": "f340b0fa",
   "metadata": {},
   "outputs": [],
   "source": []
  }
 ],
 "metadata": {
  "kernelspec": {
   "display_name": "Python 3 (ipykernel)",
   "language": "python",
   "name": "python3"
  },
  "language_info": {
   "codemirror_mode": {
    "name": "ipython",
    "version": 3
   },
   "file_extension": ".py",
   "mimetype": "text/x-python",
   "name": "python",
   "nbconvert_exporter": "python",
   "pygments_lexer": "ipython3",
   "version": "3.10.0"
  }
 },
 "nbformat": 4,
 "nbformat_minor": 5
}
